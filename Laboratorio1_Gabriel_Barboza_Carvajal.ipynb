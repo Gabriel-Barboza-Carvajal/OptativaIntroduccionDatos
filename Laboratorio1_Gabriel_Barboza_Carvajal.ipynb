{
  "nbformat": 4,
  "nbformat_minor": 0,
  "metadata": {
    "colab": {
      "provenance": [],
      "authorship_tag": "ABX9TyPO7GOAmdjv+zrKRSWBLnO8",
      "include_colab_link": true
    },
    "kernelspec": {
      "name": "python3",
      "display_name": "Python 3"
    },
    "language_info": {
      "name": "python"
    }
  },
  "cells": [
    {
      "cell_type": "markdown",
      "metadata": {
        "id": "view-in-github",
        "colab_type": "text"
      },
      "source": [
        "<a href=\"https://colab.research.google.com/github/Gabriel-Barboza-Carvajal/OptativaIntroduccionDatos/blob/main/Laboratorio1_Gabriel_Barboza_Carvajal.ipynb\" target=\"_parent\"><img src=\"https://colab.research.google.com/assets/colab-badge.svg\" alt=\"Open In Colab\"/></a>"
      ]
    },
    {
      "cell_type": "code",
      "execution_count": null,
      "metadata": {
        "colab": {
          "base_uri": "https://localhost:8080/"
        },
        "id": "fSzDn3CfHD4l",
        "outputId": "b8509b30-227a-46b2-8036-8e7c730dd3c6"
      },
      "outputs": [
        {
          "output_type": "stream",
          "name": "stdout",
          "text": [
            "Ejercicio #1 Calcular distancia\n",
            "Ingrese la velocidad y el tiempo de la unidad movil\n",
            "Ingrese la velocidad:100\n",
            "Ingrese el tiempo:50\n",
            "La distancia es : 5000.0\n"
          ]
        }
      ],
      "source": [
        "print(\"Ejercicio #1 Calcular distancia\")\n",
        "print(\"Ingrese la velocidad y el tiempo de la unidad movil\")\n",
        "v = float(input(\"Ingrese la velocidad:\"))\n",
        "t = float(input(\"Ingrese el tiempo:\"))\n",
        "print(\"La distancia es : \"+str(v*t))"
      ]
    },
    {
      "cell_type": "code",
      "source": [
        "print(\"Ejercicio #2 PRomedio notas\")\n",
        "nota1=int(input(\"ingrese la nota 1:\"))\n",
        "nota2=int(input(\"ingrese la nota 2:\"))\n",
        "nota3=int(input(\"ingrese la nota 3:\"))\n",
        "\n",
        "print(\"El prodmedio de las notas es : \" + str((nota1+nota2+nota3)/3))\n"
      ],
      "metadata": {
        "colab": {
          "base_uri": "https://localhost:8080/"
        },
        "id": "SBWOVMZIJMea",
        "outputId": "7d4a29ff-7ec3-4d61-b8fd-aa6f147273f0"
      },
      "execution_count": null,
      "outputs": [
        {
          "output_type": "stream",
          "name": "stdout",
          "text": [
            "Ejercicio #2 PRomedio notas\n",
            "ingrese la nota 1:75\n",
            "ingrese la nota 2:60\n",
            "ingrese la nota 3:90\n",
            "El prodmedio de las notas es : 75.0\n"
          ]
        }
      ]
    },
    {
      "cell_type": "code",
      "source": [],
      "metadata": {
        "id": "HQ-kbZM-MW-J"
      },
      "execution_count": null,
      "outputs": []
    },
    {
      "cell_type": "code",
      "source": [
        "RC=int(input(\"Ingrese el número de respuestas correctas\"))\n",
        "RI=int(input(\"Ingrese el número de respuestas incorrectas\"))\n",
        "RB=int(input(\"Ingrese el número de respuestas en blanco\"))\n",
        "\n",
        "\n",
        "\n",
        "print(\"El puntaje final es : \" + str((RC*3)+(RI*-1)+(RB*0)))\n"
      ],
      "metadata": {
        "colab": {
          "base_uri": "https://localhost:8080/"
        },
        "id": "BgnRUaMQLFNx",
        "outputId": "a6206e8f-7a57-4d23-9f17-e14ad4a59bbf"
      },
      "execution_count": null,
      "outputs": [
        {
          "output_type": "stream",
          "name": "stdout",
          "text": [
            "Ingrese el número de respuestas correctas3\n",
            "Ingrese el número de respuestas incorrectas2\n",
            "Ingrese el número de respuestas en blanco1\n",
            "El puntaje final es : 7\n"
          ]
        }
      ]
    }
  ]
}