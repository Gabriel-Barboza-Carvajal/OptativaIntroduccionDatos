{
  "nbformat": 4,
  "nbformat_minor": 0,
  "metadata": {
    "colab": {
      "provenance": [],
      "authorship_tag": "ABX9TyOExrZqJeVRY1XQsHJPGp1T",
      "include_colab_link": true
    },
    "kernelspec": {
      "name": "python3",
      "display_name": "Python 3"
    },
    "language_info": {
      "name": "python"
    }
  },
  "cells": [
    {
      "cell_type": "markdown",
      "metadata": {
        "id": "view-in-github",
        "colab_type": "text"
      },
      "source": [
        "<a href=\"https://colab.research.google.com/github/Gabriel-Barboza-Carvajal/OptativaIntroduccionDatos/blob/main/Laboratorio_13_abril.ipynb\" target=\"_parent\"><img src=\"https://colab.research.google.com/assets/colab-badge.svg\" alt=\"Open In Colab\"/></a>"
      ]
    },
    {
      "cell_type": "code",
      "execution_count": null,
      "metadata": {
        "colab": {
          "base_uri": "https://localhost:8080/"
        },
        "id": "AM8YXcg5HIMO",
        "outputId": "40f5f9ed-096b-4fcd-a076-abefcd35c44a"
      },
      "outputs": [
        {
          "output_type": "stream",
          "name": "stdout",
          "text": [
            "      Country    Capital  Population\n",
            "0  Costa Rica   San José     4500000\n",
            "1       India  New Delhi  1303171035\n",
            "2      Brazil   Brasilia   207847528\n"
          ]
        }
      ],
      "source": [
        "import pandas as pd\n",
        "\n",
        "data = { 'Country' : ['Costa Rica', 'India', 'Brazil'],\n",
        "'Capital' : ['San José', 'New Delhi', 'Brasilia'],\n",
        "'Population' : [4500000, 1303171035, 207847528]}\n",
        "\n",
        "df= pd.DataFrame(data,columns=['Country', 'Capital', 'Population'])\n",
        "print(df)"
      ]
    },
    {
      "cell_type": "code",
      "source": [
        "import pandas as pd\n",
        "students = [('Ana',23,'San Jose','A'),\n",
        "            ('Esteban',22,'Heredia','B'),\n",
        "            ('Juan',22,'Cartago','A'),\n",
        "            ('Karla',22,'Limón','A'),\n",
        "            ('Ernesto',21,'Heredia','B')\n",
        "            ]\n",
        "\n",
        "df = pd.DataFrame(students,columns=['Nombre','Edad','Ciudad','Sección'])\n",
        "print(df)"
      ],
      "metadata": {
        "colab": {
          "base_uri": "https://localhost:8080/"
        },
        "id": "sgPTH88DUsJf",
        "outputId": "9e908267-fef1-430f-dfe0-af5b580859a8"
      },
      "execution_count": null,
      "outputs": [
        {
          "output_type": "stream",
          "name": "stdout",
          "text": [
            "    Nombre  Edad    Ciudad Sección\n",
            "0      Ana    23  San Jose       A\n",
            "1  Esteban    22   Heredia       B\n",
            "2     Juan    22   Cartago       A\n",
            "3    Karla    22     Limón       A\n",
            "4  Ernesto    21   Heredia       B\n"
          ]
        }
      ]
    },
    {
      "cell_type": "code",
      "source": [
        "def getIndexes(dfObj,value):\n",
        "  listOfPos=[]\n",
        "  result=dfObj.isin([value])\n",
        "  seriesObj=result.any()\n",
        "  columnNames = list(seriesObj[seriesObj == True].index)\n",
        "\n",
        "  for col in columnNames:\n",
        "    rows = list(result[col][result[col]==True].index)\n",
        "      \n",
        "    for row in rows:\n",
        "        listOfPos.append((row,col))\n",
        "\n",
        "  return listOfPos"
      ],
      "metadata": {
        "id": "SNka9uwVWBGl"
      },
      "execution_count": null,
      "outputs": []
    },
    {
      "cell_type": "code",
      "source": [
        "listOfPositions = getIndexes(df,'A')\n",
        "\n",
        "print('Index positions of 22 in Dataframe : ')\n",
        "\n",
        "for i in range(len(listOfPositions)):\n",
        "  print(listOfPositions[i])\n"
      ],
      "metadata": {
        "colab": {
          "base_uri": "https://localhost:8080/"
        },
        "id": "mFtsDH4PW6Lq",
        "outputId": "8e4d79ff-9bc1-467a-e28e-178ec3cd6ce6"
      },
      "execution_count": null,
      "outputs": [
        {
          "output_type": "stream",
          "name": "stdout",
          "text": [
            "Index positions of 22 in Dataframe : \n",
            "(0, 'Sección')\n",
            "(2, 'Sección')\n",
            "(3, 'Sección')\n"
          ]
        }
      ]
    },
    {
      "cell_type": "code",
      "source": [
        "print(\"promedio de los elementos del vector\")\n",
        "Suma=0\n",
        "Media=0\n",
        "Temp=[]\n",
        "print(\"Ingrese cantidad de Temperaturas\")\n",
        "N2=int(input())\n",
        "for i in range(N):\n",
        "  temperatura=float(input(\"Ingrese la temperatura\"))\n",
        "  Temp.append(temperatura)\n",
        "  Suma=Suma+Temp[i]\n",
        "Media=Suma/N\n",
        "print(Media)"
      ],
      "metadata": {
        "colab": {
          "base_uri": "https://localhost:8080/"
        },
        "id": "mpzH1vy6Y36C",
        "outputId": "dcfc3656-d537-4a20-ede1-9bd0dec15de1"
      },
      "execution_count": null,
      "outputs": [
        {
          "output_type": "stream",
          "name": "stdout",
          "text": [
            "promedio de los elementos del vector\n",
            "Ingrese cantidad de Temperaturas\n",
            "2\n",
            "Ingrese la temperatura1\n",
            "Ingrese la temperatura2\n",
            "Ingrese la temperatura3\n",
            "2.0\n"
          ]
        }
      ]
    }
  ]
}