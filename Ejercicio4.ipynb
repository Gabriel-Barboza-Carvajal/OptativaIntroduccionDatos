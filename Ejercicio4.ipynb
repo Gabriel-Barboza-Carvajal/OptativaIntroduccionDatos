{
  "nbformat": 4,
  "nbformat_minor": 0,
  "metadata": {
    "colab": {
      "provenance": [],
      "authorship_tag": "ABX9TyN1T4kI0xfAq3q4Zsl2M4TN",
      "include_colab_link": true
    },
    "kernelspec": {
      "name": "python3",
      "display_name": "Python 3"
    },
    "language_info": {
      "name": "python"
    }
  },
  "cells": [
    {
      "cell_type": "markdown",
      "metadata": {
        "id": "view-in-github",
        "colab_type": "text"
      },
      "source": [
        "<a href=\"https://colab.research.google.com/github/Gabriel-Barboza-Carvajal/OptativaIntroduccionDatos/blob/main/Ejercicio4.ipynb\" target=\"_parent\"><img src=\"https://colab.research.google.com/assets/colab-badge.svg\" alt=\"Open In Colab\"/></a>"
      ]
    },
    {
      "cell_type": "code",
      "execution_count": null,
      "metadata": {
        "colab": {
          "base_uri": "https://localhost:8080/"
        },
        "id": "ZWFTLne3Blie",
        "outputId": "f361531b-927d-4e8e-afbb-e5f8304d15cc"
      },
      "outputs": [
        {
          "name": "stdout",
          "output_type": "stream",
          "text": [
            "Digite un número\n",
            "Número: 10\n",
            "18\n",
            "Número: 5\n",
            "6\n",
            "Número: 100\n",
            "217\n",
            "Número: 0\n"
          ]
        }
      ],
      "source": [
        "print(\"Digite un número\")\n",
        "numero=int(input(\"Número: \"))\n",
        "\n",
        "while(numero>0):\n",
        "  Suma=0\n",
        "  for i in range(1, numero+1):\n",
        "    if(numero%i==0):\n",
        "      Suma=Suma+i\n",
        "  print(Suma)\n",
        "  numero=int(input(\"Número: \"))\n",
        "\n",
        "# 1+2+4+10=18\n"
      ]
    }
  ]
}