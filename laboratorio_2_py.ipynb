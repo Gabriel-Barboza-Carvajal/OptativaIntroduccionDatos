{
  "nbformat": 4,
  "nbformat_minor": 0,
  "metadata": {
    "colab": {
      "provenance": [],
      "authorship_tag": "ABX9TyNxy5k4S7QEL0+ZmtaKPiiS",
      "include_colab_link": true
    },
    "kernelspec": {
      "name": "python3",
      "display_name": "Python 3"
    },
    "language_info": {
      "name": "python"
    }
  },
  "cells": [
    {
      "cell_type": "markdown",
      "metadata": {
        "id": "view-in-github",
        "colab_type": "text"
      },
      "source": [
        "<a href=\"https://colab.research.google.com/github/Gabriel-Barboza-Carvajal/OptativaIntroduccionDatos/blob/main/laboratorio_2_py.ipynb\" target=\"_parent\"><img src=\"https://colab.research.google.com/assets/colab-badge.svg\" alt=\"Open In Colab\"/></a>"
      ]
    },
    {
      "cell_type": "code",
      "execution_count": null,
      "metadata": {
        "colab": {
          "base_uri": "https://localhost:8080/"
        },
        "id": "IedcWQGP3bmy",
        "outputId": "c62ae327-31d2-414c-9a37-945f529da528"
      },
      "outputs": [
        {
          "output_type": "stream",
          "name": "stdout",
          "text": [
            "Ejercicio #1 Calcular distancia\n",
            "Ingrese la velocidad y el tiempo de la unidad movil\n",
            "Ingrese la velocidad:100\n",
            "Ingrese el tiempo:3\n",
            "La distancia es : 300.0\n",
            "Ejercicio #2 PRomedio notas\n",
            "ingrese la nota 1:1\n",
            "ingrese la nota 2:2\n",
            "ingrese la nota 3:3\n",
            "El prodmedio de las notas es : 2.0\n",
            "Ingrese el número de respuestas correctas2\n",
            "Ingrese el número de respuestas incorrectas2\n",
            "Ingrese el número de respuestas en blanco2\n",
            "El puntaje final es : 4\n",
            "ejemplo del uso del if\n",
            "La velocidad es mayor al tiempo\n"
          ]
        }
      ],
      "source": [
        "\n",
        "print(\"Ejercicio #1 Calcular distancia\")\n",
        "print(\"Ingrese la velocidad y el tiempo de la unidad movil\")\n",
        "v = float(input(\"Ingrese la velocidad:\"))\n",
        "t = float(input(\"Ingrese el tiempo:\"))\n",
        "print(\"La distancia es : \"+str(v*t))\n",
        "\n",
        "print(\"Ejercicio #2 PRomedio notas\")\n",
        "nota1=int(input(\"ingrese la nota 1:\"))\n",
        "nota2=int(input(\"ingrese la nota 2:\"))\n",
        "nota3=int(input(\"ingrese la nota 3:\"))\n",
        "\n",
        "print(\"El prodmedio de las notas es : \" + str((nota1+nota2+nota3)/3))\n",
        "\n",
        "\n",
        "\n",
        "RC=int(input(\"Ingrese el número de respuestas correctas\"))\n",
        "RI=int(input(\"Ingrese el número de respuestas incorrectas\"))\n",
        "RB=int(input(\"Ingrese el número de respuestas en blanco\"))\n",
        "\n",
        "\n",
        "\n",
        "print(\"El puntaje final es : \" + str((RC*3)+(RI*-1)+(RB*0)))\n",
        "\n",
        "print(\"ejemplo del uso del if\")\n",
        "if v>t:\n",
        "  print(\"La velocidad es mayor al tiempo\")\n",
        "else:\n",
        "  print(\"La velocidad es menor al tiempo\")\n"
      ]
    },
    {
      "cell_type": "code",
      "source": [
        "switcher={1:\"Enero\",2:\"Febrero\",3:\"Marzo\",4:\"Abril\",5:\"Mayo\",6:\"Junio\",7:\"Julio\",8:\"Agosto\",9:\"Septiembre\",10:\"Octubre\",11:\"Noviembre\",12:\"Diciembre\"}\n",
        "argument=int(input(\"Ingrese un número:\"))\n",
        "nameMes=switcher.get(argument,\"Mes inválido\")\n",
        "print(nameMes)"
      ],
      "metadata": {
        "colab": {
          "base_uri": "https://localhost:8080/"
        },
        "id": "wqLiF2lk7lsn",
        "outputId": "e70d976b-429f-4c4a-b162-27c288576a80"
      },
      "execution_count": null,
      "outputs": [
        {
          "output_type": "stream",
          "name": "stdout",
          "text": [
            "Ingrese un número:10\n",
            "Octubre\n"
          ]
        }
      ]
    }
  ]
}