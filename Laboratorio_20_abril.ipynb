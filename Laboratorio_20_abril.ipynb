{
  "nbformat": 4,
  "nbformat_minor": 0,
  "metadata": {
    "colab": {
      "provenance": [],
      "authorship_tag": "ABX9TyMN54UvXrC5QUz1iTx9Rxh9",
      "include_colab_link": true
    },
    "kernelspec": {
      "name": "python3",
      "display_name": "Python 3"
    },
    "language_info": {
      "name": "python"
    }
  },
  "cells": [
    {
      "cell_type": "markdown",
      "metadata": {
        "id": "view-in-github",
        "colab_type": "text"
      },
      "source": [
        "<a href=\"https://colab.research.google.com/github/Gabriel-Barboza-Carvajal/OptativaIntroduccionDatos/blob/main/Laboratorio_20_abril.ipynb\" target=\"_parent\"><img src=\"https://colab.research.google.com/assets/colab-badge.svg\" alt=\"Open In Colab\"/></a>"
      ]
    },
    {
      "cell_type": "code",
      "execution_count": 4,
      "metadata": {
        "colab": {
          "base_uri": "https://localhost:8080/"
        },
        "id": "cP_F1CLDfayH",
        "outputId": "a41437ad-70f6-4e02-d4b2-456d2e11bdee"
      },
      "outputs": [
        {
          "output_type": "stream",
          "name": "stdout",
          "text": [
            "      7  0  0.1  0.2  0.3  0.4  0.5  0.6  0.7  0.8  ...  0.658  0.659  0.660  \\\n",
            "0     2  0    0    0    0    0    0    0    0    0  ...      0      0      0   \n",
            "1     1  0    0    0    0    0    0    0    0    0  ...      0      0      0   \n",
            "2     0  0    0    0    0    0    0    0    0    0  ...      0      0      0   \n",
            "3     4  0    0    0    0    0    0    0    0    0  ...      0      0      0   \n",
            "4     1  0    0    0    0    0    0    0    0    0  ...      0      0      0   \n",
            "...  .. ..  ...  ...  ...  ...  ...  ...  ...  ...  ...    ...    ...    ...   \n",
            "9994  2  0    0    0    0    0    0    0    0    0  ...      0      0      0   \n",
            "9995  3  0    0    0    0    0    0    0    0    0  ...      0      0      0   \n",
            "9996  4  0    0    0    0    0    0    0    0    0  ...      0      0      0   \n",
            "9997  5  0    0    0    0    0    0    0    0    0  ...      0      0      0   \n",
            "9998  6  0    0    0    0    0    0    0    0    0  ...      0      0      0   \n",
            "\n",
            "      0.661  0.662  0.663  0.664  0.665  0.666  0.667  \n",
            "0         0      0      0      0      0      0      0  \n",
            "1         0      0      0      0      0      0      0  \n",
            "2         0      0      0      0      0      0      0  \n",
            "3         0      0      0      0      0      0      0  \n",
            "4         0      0      0      0      0      0      0  \n",
            "...     ...    ...    ...    ...    ...    ...    ...  \n",
            "9994      0      0      0      0      0      0      0  \n",
            "9995      0      0      0      0      0      0      0  \n",
            "9996      0      0      0      0      0      0      0  \n",
            "9997      0      0      0      0      0      0      0  \n",
            "9998      0      0      0      0      0      0      0  \n",
            "\n",
            "[9999 rows x 785 columns]\n"
          ]
        }
      ],
      "source": [
        "import pandas as pd\n",
        "#datos=pd.read_csv('/content/casaboston.csv')\n",
        "datos=pd.read_csv('/content/sample_data/mnist_test.csv')\n",
        "df=pd.DataFrame(datos)\n",
        "print(df)"
      ]
    }
  ]
}