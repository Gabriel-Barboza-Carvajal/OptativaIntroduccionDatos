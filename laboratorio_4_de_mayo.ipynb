{
  "nbformat": 4,
  "nbformat_minor": 0,
  "metadata": {
    "colab": {
      "provenance": [],
      "authorship_tag": "ABX9TyNbn1A2YkC+vb7QKV0PiVSx",
      "include_colab_link": true
    },
    "kernelspec": {
      "name": "python3",
      "display_name": "Python 3"
    },
    "language_info": {
      "name": "python"
    }
  },
  "cells": [
    {
      "cell_type": "markdown",
      "metadata": {
        "id": "view-in-github",
        "colab_type": "text"
      },
      "source": [
        "<a href=\"https://colab.research.google.com/github/Gabriel-Barboza-Carvajal/OptativaIntroduccionDatos/blob/main/laboratorio_4_de_mayo.ipynb\" target=\"_parent\"><img src=\"https://colab.research.google.com/assets/colab-badge.svg\" alt=\"Open In Colab\"/></a>"
      ]
    },
    {
      "cell_type": "code",
      "execution_count": 5,
      "metadata": {
        "colab": {
          "base_uri": "https://localhost:8080/"
        },
        "id": "qxzTUJitexRU",
        "outputId": "61884111-539e-4715-837a-6e379872ed19"
      },
      "outputs": [
        {
          "output_type": "stream",
          "name": "stdout",
          "text": [
            "\n",
            "\n",
            "F-Porcentajes de homicidio intencional por CR por año\n",
            "        Country  Year  Value\n",
            "844  Costa Rica  2005    7.8\n",
            "849  Costa Rica  2010   11.5\n",
            "857  Costa Rica  2013    8.7\n",
            "865  Costa Rica  2017   12.2\n",
            "872  Costa Rica  2018   11.3\n",
            "\n",
            "\n",
            "G.Obtener el año más conflictivo en general.\n",
            "0    2010\n",
            "Name: Year, dtype: int64\n",
            "\n",
            "\n",
            "H-Genero mas afectado en crimenes en promedio en el año 2018\n",
            "Series\n",
            "Percentage of male and female intentional homicide victims, Female    1.697260\n",
            "Percentage of male and female intentional homicide victims, Male      8.908108\n",
            "Name: Value, dtype: float64\n"
          ]
        }
      ],
      "source": [
        "\n",
        "import pandas as pd\n",
        "import matplotlib.pyplot as plt\n",
        "\n",
        "df=pd.read_csv('/content/CSVInvestigation.csv')\n",
        "data=pd.DataFrame(df)\n",
        "data=data.astype({\"Value\": float})\n",
        "dataFiltered2018=data.loc[(data['Year']==2018)]\n",
        "#porcentajes de homicidio intencional por CR por año\n",
        "print()\n",
        "print()\n",
        "print('F-Porcentajes de homicidio intencional por CR por año')\n",
        "dataFilteredCRHomicides=data.loc[(data['Country'] ==\"Costa Rica\")&\n",
        "                                 (data['Series'] ==\"Intentional homicide rates per 100,000\")]\n",
        "print(dataFilteredCRHomicides.sort_values(by=['Year'], ascending=True)[['Country','Year','Value']])\n",
        "\n",
        "print()\n",
        "print()\n",
        "print(\"G.Obtener el año más conflictivo en general.\")\n",
        "registro_annos = df[\"Year\"]\n",
        "anno_conflictivo = registro_annos.mode()\n",
        "print (anno_conflictivo)\n",
        "\n",
        "print()\n",
        "print()\n",
        "print('H-Genero mas afectado en crimenes en promedio en el año 2018')\n",
        "dataFilteredByGender=dataFiltered2018.loc[((\n",
        "    dataFiltered2018['Series'] ==\"Percentage of male and female intentional homicide victims, Male\")\n",
        "    |(dataFiltered2018['Series']==\"Percentage of male and female intentional homicide victims, Female\"))\n",
        "    ].groupby('Series')['Value']\n",
        "print(dataFilteredByGender.mean())"
      ]
    }
  ]
}