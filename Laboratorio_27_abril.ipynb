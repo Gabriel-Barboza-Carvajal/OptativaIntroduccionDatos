{
  "nbformat": 4,
  "nbformat_minor": 0,
  "metadata": {
    "colab": {
      "provenance": [],
      "authorship_tag": "ABX9TyPhP/iwRQifYRP4kaNWIDX3",
      "include_colab_link": true
    },
    "kernelspec": {
      "name": "python3",
      "display_name": "Python 3"
    },
    "language_info": {
      "name": "python"
    }
  },
  "cells": [
    {
      "cell_type": "markdown",
      "metadata": {
        "id": "view-in-github",
        "colab_type": "text"
      },
      "source": [
        "<a href=\"https://colab.research.google.com/github/Gabriel-Barboza-Carvajal/OptativaIntroduccionDatos/blob/main/Laboratorio_27_abril.ipynb\" target=\"_parent\"><img src=\"https://colab.research.google.com/assets/colab-badge.svg\" alt=\"Open In Colab\"/></a>"
      ]
    },
    {
      "cell_type": "code",
      "execution_count": 13,
      "metadata": {
        "colab": {
          "base_uri": "https://localhost:8080/"
        },
        "id": "TKxOFKleH0P1",
        "outputId": "43df79ac-da18-44b4-f728-52135f9a1325"
      },
      "outputs": [
        {
          "output_type": "stream",
          "name": "stdout",
          "text": [
            "5 paises con mayor indice criminal\n",
            "\n",
            "\n",
            "A-Los 5 paises con mayor indice de homicidios inernacionales en el año 2018 son:\n",
            "                         Country  Value\n",
            "1114                 El Salvador   52.0\n",
            "1682                     Jamaica   43.9\n",
            "1459                    Honduras   38.9\n",
            "3534  Venezuela (Boliv. Rep. of)   36.7\n",
            "3062                South Africa   36.4\n",
            "Crimen más repetido por país en el 2018\n",
            "\n",
            "\n",
            "Crimen mas repetido por pais en el 2018\n",
            "Intentional homicide rates per 100,000                                91\n",
            "Assault rate per 100,000 population                                   82\n",
            "Theft at the national level, rate per 100,000 population              75\n",
            "Percentage of male and female intentional homicide victims, Male      74\n",
            "Percentage of male and female intentional homicide victims, Female    73\n",
            "Kidnapping at the national level, rate per 100,000                    67\n",
            "Name: Series, dtype: int64\n",
            "Crimen con el porcentaje mas alto en CR en el 2005\n",
            "\n",
            "\n",
            "Crimen con el porcentaje mas alto en CR en el 2005:\n",
            "        Country                                             Series  Value\n",
            "848  Costa Rica  Theft at the national level, rate per 100,000 ...  195.1\n",
            "845  Costa Rica  Percentage of male and female intentional homi...   12.7\n",
            "844  Costa Rica             Intentional homicide rates per 100,000    7.8\n",
            "846  Costa Rica  Percentage of male and female intentional homi...    2.9\n",
            "847  Costa Rica  Kidnapping at the national level, rate per 100...    0.3\n",
            "En el año 2010, cual es tasa de homicidios en Costa Rica, Panamá y Nicaragua\n",
            "\n",
            "\n",
            "En el año 2010, cual es tasa de homicidios en Costa Rica, Panamá y Nicaragua.\n",
            "         Country  Value\n",
            "872   Costa Rica   11.3\n",
            "2487      Panama    9.4\n"
          ]
        }
      ],
      "source": [
        "import pandas as pd\n",
        "import matplotlib.pyplot as plt\n",
        "\n",
        "df=pd.read_csv('/content/CSVInvestigation.csv')\n",
        "data=pd.DataFrame(df)\n",
        "data=data.astype({\"Value\": float})\n",
        "\n",
        "dataFiltered2018data=data.loc[(data['Year']==2018)]\n",
        "\n",
        "print(\"5 paises con mayor indice criminal\")\n",
        "print()\n",
        "print()\n",
        "dataFiltered=data.loc[(data['Series'] == \"Intentional homicide rates per 100,000\") & (data['Year']==2018)]\n",
        "print(\"A-Los 5 paises con mayor indice de homicidios inernacionales en el año 2018 son:\")\n",
        "print(dataFiltered.sort_values(by=['Value'],ascending=False)[['Country','Value']].head(5))\n",
        "\n",
        "print(\"Crimen más repetido por país en el 2018\")\n",
        "print()\n",
        "print()\n",
        "print(\"Crimen mas repetido por pais en el 2018\")\n",
        "print(dataFiltered2018data[\"Series\"].value_counts())\n",
        "\n",
        "print(\"Crimen con el porcentaje mas alto en CR en el 2005\")\n",
        "print()\n",
        "print()\n",
        "print(\"Crimen con el porcentaje mas alto en CR en el 2005:\")\n",
        "dataFilteredCR=data.loc[(data['Country'] == 'Costa Rica')&(data['Year']==2005)]\n",
        "print(dataFilteredCR.sort_values(by=['Value'], ascending=False)[['Country','Series','Value']])\n",
        "\n",
        "print(\"En el año 2010, cual es tasa de homicidios en Costa Rica, Panamá y Nicaragua\")\n",
        "print()\n",
        "print()\n",
        "print(\"En el año 2010, cual es tasa de homicidios en Costa Rica, Panamá y Nicaragua.\")\n",
        "registro_general = df.loc[((((df[\"Country\"] == \"Costa Rica\") | (df[\"Country\"]==\"Panama\") | (df[\"Country\"]==\"Nicaragua\")) & (df[\"Series\"]==\"Intentional homicide rates per 100,000\") & (df[\"Year\"]==2018)))][['Country','Value']]\n",
        "print(registro_general)\n"
      ]
    },
    {
      "cell_type": "code",
      "source": [
        "# reto 2\n",
        "import pandas as pd\n",
        "import matplotlib.pyplot as plt\n",
        "\n",
        "df=pd.read_csv('/content/data.csv')\n",
        "data=pd.DataFrame(df)\n",
        "print(\"R E T O 2\")\n",
        "#print(data.sort_values(by=['Source-Time period'], ascending=True)[['Countries and areas','Income Group','Source-Data source','Source-Time period']].head(50))\n",
        "print(data.sort_values(by=['Source-Time period'], ascending=True)[['Countries and areas','Source-Time period']].head(50))\n",
        "#-- Fin reto 2\n",
        "print(\"R E T O 4\")\n",
        "# reto 4 , no se puede sumar , vamos a agrupar\n",
        "dataFilteredCR=data.loc[(data['Region'] == 'LAC')][['Countries and areas','Residence-Urban']]\n",
        "print(dataFilteredCR)"
      ],
      "metadata": {
        "colab": {
          "base_uri": "https://localhost:8080/"
        },
        "id": "KOnalcx0ej3R",
        "outputId": "43fc7894-9887-470c-f735-50a882d93167"
      },
      "execution_count": 39,
      "outputs": [
        {
          "output_type": "stream",
          "name": "stdout",
          "text": [
            "R E T O 2\n",
            "                 Countries and areas Source-Time period\n",
            "49                           Morocco               2010\n",
            "66                       South Sudan               2010\n",
            "10                      Burkina Faso               2010\n",
            "75               Trinidad and Tobago               2011\n",
            "1                          Argentina            2011-12\n",
            "7             Bosnia and Herzegovina            2011-12\n",
            "52                         Nicaragua            2011-12\n",
            "67                         Sri Lanka               2012\n",
            "84                          Viet Nam               2012\n",
            "4                           Barbados               2012\n",
            "21                          Djibouti               2012\n",
            "59                       Saint Lucia               2012\n",
            "82                           Uruguay            2012-99\n",
            "77                            Turkey               2013\n",
            "37                             Kenya               2013\n",
            "56                            Panama               2013\n",
            "50                           Namibia               2013\n",
            "80                           Ukraine               2013\n",
            "9                           Bulgaria               2013\n",
            "22                Dominican Republic               2014\n",
            "68                             Sudan               2014\n",
            "11                          Cameroon               2014\n",
            "65                      South Africa            2014-15\n",
            "53                             Niger            2014-15\n",
            "28                         Guatemala            2014-15\n",
            "44                              Mali               2015\n",
            "24                             Egypt               2015\n",
            "79                            Uganda               2015\n",
            "45                        Mauritania               2015\n",
            "16                          Colombia            2015-16\n",
            "31                             India            2015-16\n",
            "2                            Armenia            2015-16\n",
            "0                             Angola            2015-16\n",
            "81                    United Kingdom               2016\n",
            "6   Bolivia (Plurinational State of)               2016\n",
            "18                     Côte d'Ivoire               2016\n",
            "43                          Maldives            2016-17\n",
            "30                             Haiti            2016-17\n",
            "61                           Senegal               2017\n",
            "83                        Uzbekistan               2017\n",
            "40  Lao People's Democratic Republic               2017\n",
            "55                          Pakistan               2017\n",
            "14                             Chile               2017\n",
            "63                      Sierra Leone               2017\n",
            "73                              Togo               2017\n",
            "70                        Tajikistan               2017\n",
            "5                              Benin            2017-18\n",
            "27                             Ghana            2017-18\n",
            "36                            Jordan            2017-18\n",
            "64                           Somalia            2017-18\n",
            "R E T O 4\n",
            "                 Countries and areas Residence-Urban\n",
            "1                          Argentina             NaN\n",
            "4                           Barbados             68%\n",
            "6   Bolivia (Plurinational State of)             15%\n",
            "8                             Brazil             88%\n",
            "14                             Chile             88%\n",
            "16                          Colombia             45%\n",
            "17                        Costa Rica             74%\n",
            "19                              Cuba              6%\n",
            "22                Dominican Republic             29%\n",
            "23                           Ecuador             50%\n",
            "28                         Guatemala             16%\n",
            "30                             Haiti             33%\n",
            "46                            Mexico             47%\n",
            "52                         Nicaragua             NaN\n",
            "56                            Panama             40%\n",
            "57                              Peru             33%\n",
            "59                       Saint Lucia             47%\n",
            "69                          Suriname             56%\n",
            "75               Trinidad and Tobago             51%\n",
            "82                           Uruguay             64%\n"
          ]
        }
      ]
    }
  ]
}